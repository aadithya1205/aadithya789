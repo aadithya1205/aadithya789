{
 "cells": [
  {
   "cell_type": "code",
   "execution_count": 1,
   "id": "b5eebebb",
   "metadata": {},
   "outputs": [
    {
     "name": "stderr",
     "output_type": "stream",
     "text": [
      "C:\\Users\\aditi\\AppData\\Local\\Temp\\ipykernel_8324\\1456819502.py:2: DtypeWarning: Columns (2) have mixed types. Specify dtype option on import or set low_memory=False.\n",
      "  df=pd.read_csv(\"copper.csv\")\n"
     ]
    },
    {
     "data": {
      "text/html": [
       "<div>\n",
       "<style scoped>\n",
       "    .dataframe tbody tr th:only-of-type {\n",
       "        vertical-align: middle;\n",
       "    }\n",
       "\n",
       "    .dataframe tbody tr th {\n",
       "        vertical-align: top;\n",
       "    }\n",
       "\n",
       "    .dataframe thead th {\n",
       "        text-align: right;\n",
       "    }\n",
       "</style>\n",
       "<table border=\"1\" class=\"dataframe\">\n",
       "  <thead>\n",
       "    <tr style=\"text-align: right;\">\n",
       "      <th></th>\n",
       "      <th>id</th>\n",
       "      <th>item_date</th>\n",
       "      <th>quantity tons</th>\n",
       "      <th>customer</th>\n",
       "      <th>country</th>\n",
       "      <th>status</th>\n",
       "      <th>item type</th>\n",
       "      <th>application</th>\n",
       "      <th>thickness</th>\n",
       "      <th>width</th>\n",
       "      <th>material_ref</th>\n",
       "      <th>product_ref</th>\n",
       "      <th>delivery date</th>\n",
       "      <th>selling_price</th>\n",
       "    </tr>\n",
       "  </thead>\n",
       "  <tbody>\n",
       "    <tr>\n",
       "      <th>0</th>\n",
       "      <td>EC06F063-9DF0-440C-8764-0B0C05A4F6AE</td>\n",
       "      <td>20210401.0</td>\n",
       "      <td>54.151139</td>\n",
       "      <td>30156308.0</td>\n",
       "      <td>28.0</td>\n",
       "      <td>Won</td>\n",
       "      <td>W</td>\n",
       "      <td>10.0</td>\n",
       "      <td>2.00</td>\n",
       "      <td>1500.0</td>\n",
       "      <td>DEQ1 S460MC</td>\n",
       "      <td>1670798778</td>\n",
       "      <td>20210701.0</td>\n",
       "      <td>854.00</td>\n",
       "    </tr>\n",
       "    <tr>\n",
       "      <th>1</th>\n",
       "      <td>4E5F4B3D-DDDF-499D-AFDE-A3227EC49425</td>\n",
       "      <td>20210401.0</td>\n",
       "      <td>768.024839</td>\n",
       "      <td>30202938.0</td>\n",
       "      <td>25.0</td>\n",
       "      <td>Won</td>\n",
       "      <td>W</td>\n",
       "      <td>41.0</td>\n",
       "      <td>0.80</td>\n",
       "      <td>1210.0</td>\n",
       "      <td>0000000000000000000000000000000000104991</td>\n",
       "      <td>1668701718</td>\n",
       "      <td>20210401.0</td>\n",
       "      <td>1047.00</td>\n",
       "    </tr>\n",
       "    <tr>\n",
       "      <th>2</th>\n",
       "      <td>E140FF1B-2407-4C02-A0DD-780A093B1158</td>\n",
       "      <td>20210401.0</td>\n",
       "      <td>386.127949</td>\n",
       "      <td>30153963.0</td>\n",
       "      <td>30.0</td>\n",
       "      <td>Won</td>\n",
       "      <td>WI</td>\n",
       "      <td>28.0</td>\n",
       "      <td>0.38</td>\n",
       "      <td>952.0</td>\n",
       "      <td>S0380700</td>\n",
       "      <td>628377</td>\n",
       "      <td>20210101.0</td>\n",
       "      <td>644.33</td>\n",
       "    </tr>\n",
       "    <tr>\n",
       "      <th>3</th>\n",
       "      <td>F8D507A0-9C62-4EFE-831E-33E1DA53BB50</td>\n",
       "      <td>20210401.0</td>\n",
       "      <td>202.411065</td>\n",
       "      <td>30349574.0</td>\n",
       "      <td>32.0</td>\n",
       "      <td>Won</td>\n",
       "      <td>S</td>\n",
       "      <td>59.0</td>\n",
       "      <td>2.30</td>\n",
       "      <td>1317.0</td>\n",
       "      <td>DX51D+ZM310MAO 2.3X1317</td>\n",
       "      <td>1668701718</td>\n",
       "      <td>20210101.0</td>\n",
       "      <td>768.00</td>\n",
       "    </tr>\n",
       "    <tr>\n",
       "      <th>4</th>\n",
       "      <td>4E1C4E78-152B-430A-8094-ADD889C9D0AD</td>\n",
       "      <td>20210401.0</td>\n",
       "      <td>785.526262</td>\n",
       "      <td>30211560.0</td>\n",
       "      <td>28.0</td>\n",
       "      <td>Won</td>\n",
       "      <td>W</td>\n",
       "      <td>10.0</td>\n",
       "      <td>4.00</td>\n",
       "      <td>2000.0</td>\n",
       "      <td>2_S275JR+AR-CL1</td>\n",
       "      <td>640665</td>\n",
       "      <td>20210301.0</td>\n",
       "      <td>577.00</td>\n",
       "    </tr>\n",
       "    <tr>\n",
       "      <th>...</th>\n",
       "      <td>...</td>\n",
       "      <td>...</td>\n",
       "      <td>...</td>\n",
       "      <td>...</td>\n",
       "      <td>...</td>\n",
       "      <td>...</td>\n",
       "      <td>...</td>\n",
       "      <td>...</td>\n",
       "      <td>...</td>\n",
       "      <td>...</td>\n",
       "      <td>...</td>\n",
       "      <td>...</td>\n",
       "      <td>...</td>\n",
       "      <td>...</td>\n",
       "    </tr>\n",
       "    <tr>\n",
       "      <th>181668</th>\n",
       "      <td>DE633116-D1DF-4846-982E-55EFC3658A76</td>\n",
       "      <td>20200702.0</td>\n",
       "      <td>102.4824216</td>\n",
       "      <td>30200854.0</td>\n",
       "      <td>25.0</td>\n",
       "      <td>Won</td>\n",
       "      <td>W</td>\n",
       "      <td>41.0</td>\n",
       "      <td>0.96</td>\n",
       "      <td>1220.0</td>\n",
       "      <td>0000000000000000000000000000000001000777</td>\n",
       "      <td>164141591</td>\n",
       "      <td>20200701.0</td>\n",
       "      <td>591.00</td>\n",
       "    </tr>\n",
       "    <tr>\n",
       "      <th>181669</th>\n",
       "      <td>A48374B1-E6DB-45F2-889A-1F9C27C099EB</td>\n",
       "      <td>20200702.0</td>\n",
       "      <td>208.0864686</td>\n",
       "      <td>30200854.0</td>\n",
       "      <td>25.0</td>\n",
       "      <td>Won</td>\n",
       "      <td>W</td>\n",
       "      <td>41.0</td>\n",
       "      <td>0.95</td>\n",
       "      <td>1500.0</td>\n",
       "      <td>0000000000000000000000000000000001000227</td>\n",
       "      <td>164141591</td>\n",
       "      <td>20200701.0</td>\n",
       "      <td>589.00</td>\n",
       "    </tr>\n",
       "    <tr>\n",
       "      <th>181670</th>\n",
       "      <td>91643238-5C7B-4237-9A5F-63AE3D35F320</td>\n",
       "      <td>20200702.0</td>\n",
       "      <td>4.235593568</td>\n",
       "      <td>30200854.0</td>\n",
       "      <td>25.0</td>\n",
       "      <td>Won</td>\n",
       "      <td>W</td>\n",
       "      <td>41.0</td>\n",
       "      <td>0.71</td>\n",
       "      <td>1250.0</td>\n",
       "      <td>0000000000000000000000000000000001004216</td>\n",
       "      <td>164141591</td>\n",
       "      <td>20200701.0</td>\n",
       "      <td>619.00</td>\n",
       "    </tr>\n",
       "    <tr>\n",
       "      <th>181671</th>\n",
       "      <td>7AFFD323-01D9-4E15-B80D-7D1B03498FC8</td>\n",
       "      <td>20200702.0</td>\n",
       "      <td>-2000</td>\n",
       "      <td>30200854.0</td>\n",
       "      <td>25.0</td>\n",
       "      <td>Won</td>\n",
       "      <td>W</td>\n",
       "      <td>41.0</td>\n",
       "      <td>0.85</td>\n",
       "      <td>1250.0</td>\n",
       "      <td>0000000000000000000000000000000001001149</td>\n",
       "      <td>164141591</td>\n",
       "      <td>20200701.0</td>\n",
       "      <td>601.00</td>\n",
       "    </tr>\n",
       "    <tr>\n",
       "      <th>181672</th>\n",
       "      <td>AD0CA853-AE3C-4B2F-9FBB-8B0B965F84BC</td>\n",
       "      <td>20200702.0</td>\n",
       "      <td>406.6865384</td>\n",
       "      <td>30200854.0</td>\n",
       "      <td>25.0</td>\n",
       "      <td>Won</td>\n",
       "      <td>W</td>\n",
       "      <td>41.0</td>\n",
       "      <td>0.71</td>\n",
       "      <td>1240.0</td>\n",
       "      <td>0000000000000000000000000000000001005439</td>\n",
       "      <td>164141591</td>\n",
       "      <td>20200701.0</td>\n",
       "      <td>607.00</td>\n",
       "    </tr>\n",
       "  </tbody>\n",
       "</table>\n",
       "<p>181673 rows × 14 columns</p>\n",
       "</div>"
      ],
      "text/plain": [
       "                                          id   item_date quantity tons  \\\n",
       "0       EC06F063-9DF0-440C-8764-0B0C05A4F6AE  20210401.0     54.151139   \n",
       "1       4E5F4B3D-DDDF-499D-AFDE-A3227EC49425  20210401.0    768.024839   \n",
       "2       E140FF1B-2407-4C02-A0DD-780A093B1158  20210401.0    386.127949   \n",
       "3       F8D507A0-9C62-4EFE-831E-33E1DA53BB50  20210401.0    202.411065   \n",
       "4       4E1C4E78-152B-430A-8094-ADD889C9D0AD  20210401.0    785.526262   \n",
       "...                                      ...         ...           ...   \n",
       "181668  DE633116-D1DF-4846-982E-55EFC3658A76  20200702.0   102.4824216   \n",
       "181669  A48374B1-E6DB-45F2-889A-1F9C27C099EB  20200702.0   208.0864686   \n",
       "181670  91643238-5C7B-4237-9A5F-63AE3D35F320  20200702.0   4.235593568   \n",
       "181671  7AFFD323-01D9-4E15-B80D-7D1B03498FC8  20200702.0         -2000   \n",
       "181672  AD0CA853-AE3C-4B2F-9FBB-8B0B965F84BC  20200702.0   406.6865384   \n",
       "\n",
       "          customer  country status item type  application  thickness   width  \\\n",
       "0       30156308.0     28.0    Won         W         10.0       2.00  1500.0   \n",
       "1       30202938.0     25.0    Won         W         41.0       0.80  1210.0   \n",
       "2       30153963.0     30.0    Won        WI         28.0       0.38   952.0   \n",
       "3       30349574.0     32.0    Won         S         59.0       2.30  1317.0   \n",
       "4       30211560.0     28.0    Won         W         10.0       4.00  2000.0   \n",
       "...            ...      ...    ...       ...          ...        ...     ...   \n",
       "181668  30200854.0     25.0    Won         W         41.0       0.96  1220.0   \n",
       "181669  30200854.0     25.0    Won         W         41.0       0.95  1500.0   \n",
       "181670  30200854.0     25.0    Won         W         41.0       0.71  1250.0   \n",
       "181671  30200854.0     25.0    Won         W         41.0       0.85  1250.0   \n",
       "181672  30200854.0     25.0    Won         W         41.0       0.71  1240.0   \n",
       "\n",
       "                                    material_ref  product_ref  delivery date  \\\n",
       "0                                    DEQ1 S460MC   1670798778     20210701.0   \n",
       "1       0000000000000000000000000000000000104991   1668701718     20210401.0   \n",
       "2                                       S0380700       628377     20210101.0   \n",
       "3                        DX51D+ZM310MAO 2.3X1317   1668701718     20210101.0   \n",
       "4                                2_S275JR+AR-CL1       640665     20210301.0   \n",
       "...                                          ...          ...            ...   \n",
       "181668  0000000000000000000000000000000001000777    164141591     20200701.0   \n",
       "181669  0000000000000000000000000000000001000227    164141591     20200701.0   \n",
       "181670  0000000000000000000000000000000001004216    164141591     20200701.0   \n",
       "181671  0000000000000000000000000000000001001149    164141591     20200701.0   \n",
       "181672  0000000000000000000000000000000001005439    164141591     20200701.0   \n",
       "\n",
       "        selling_price  \n",
       "0              854.00  \n",
       "1             1047.00  \n",
       "2              644.33  \n",
       "3              768.00  \n",
       "4              577.00  \n",
       "...               ...  \n",
       "181668         591.00  \n",
       "181669         589.00  \n",
       "181670         619.00  \n",
       "181671         601.00  \n",
       "181672         607.00  \n",
       "\n",
       "[181673 rows x 14 columns]"
      ]
     },
     "execution_count": 1,
     "metadata": {},
     "output_type": "execute_result"
    }
   ],
   "source": [
    "import pandas as pd\n",
    "df=pd.read_csv(\"copper.csv\")\n",
    "df"
   ]
  },
  {
   "cell_type": "code",
   "execution_count": 2,
   "id": "dba73f7d",
   "metadata": {},
   "outputs": [
    {
     "data": {
      "text/plain": [
       "id                   2\n",
       "item_date            1\n",
       "quantity tons        0\n",
       "customer             1\n",
       "country             28\n",
       "status               2\n",
       "item type            0\n",
       "application         24\n",
       "thickness            1\n",
       "width                0\n",
       "material_ref     77919\n",
       "product_ref          0\n",
       "delivery date        1\n",
       "selling_price        1\n",
       "dtype: int64"
      ]
     },
     "execution_count": 2,
     "metadata": {},
     "output_type": "execute_result"
    }
   ],
   "source": [
    "#number of null values in each column\n",
    "df.isna().sum()"
   ]
  },
  {
   "cell_type": "code",
   "execution_count": 3,
   "id": "7caa6128",
   "metadata": {},
   "outputs": [
    {
     "data": {
      "text/plain": [
       "{'whiskers': [<matplotlib.lines.Line2D at 0x2461f7e03d0>,\n",
       "  <matplotlib.lines.Line2D at 0x2461f7fed90>],\n",
       " 'caps': [<matplotlib.lines.Line2D at 0x2461f7ff990>,\n",
       "  <matplotlib.lines.Line2D at 0x2461f80c790>],\n",
       " 'boxes': [<matplotlib.lines.Line2D at 0x2461f17c550>],\n",
       " 'medians': [<matplotlib.lines.Line2D at 0x2461f80d290>],\n",
       " 'fliers': [<matplotlib.lines.Line2D at 0x2461f7ff410>],\n",
       " 'means': []}"
      ]
     },
     "execution_count": 3,
     "metadata": {},
     "output_type": "execute_result"
    },
    {
     "data": {
      "image/png": "[encoded data removed]",
      "text/plain": [
       "<Figure size 640x480 with 1 Axes>"
      ]
     },
     "metadata": {},
     "output_type": "display_data"
    }
   ],
   "source": [
    "#Filling the missing values based on presence of outliers\n",
    "df1=df.dropna()\n",
    "import matplotlib.pyplot as plt\n",
    "plt.boxplot(df1[\"country\"])"
   ]
  },
  {
   "cell_type": "code",
   "execution_count": 4,
   "id": "5153840b",
   "metadata": {},
   "outputs": [],
   "source": [
    "df['country'] = df['country'].fillna(df['country'].mean())"
   ]
  },
  {
   "cell_type": "code",
   "execution_count": 5,
   "id": "e0986790",
   "metadata": {},
   "outputs": [
    {
     "data": {
      "text/plain": [
       "{'whiskers': [<matplotlib.lines.Line2D at 0x2461f8872d0>,\n",
       "  <matplotlib.lines.Line2D at 0x2461f894050>],\n",
       " 'caps': [<matplotlib.lines.Line2D at 0x2461f894bd0>,\n",
       "  <matplotlib.lines.Line2D at 0x2461f895590>],\n",
       " 'boxes': [<matplotlib.lines.Line2D at 0x2461f886590>],\n",
       " 'medians': [<matplotlib.lines.Line2D at 0x2461f896150>],\n",
       " 'fliers': [<matplotlib.lines.Line2D at 0x2461f896bd0>],\n",
       " 'means': []}"
      ]
     },
     "execution_count": 5,
     "metadata": {},
     "output_type": "execute_result"
    },
    {
     "data": {
      "image/png": "[encoded data removed]",
      "text/plain": [
       "<Figure size 640x480 with 1 Axes>"
      ]
     },
     "metadata": {},
     "output_type": "display_data"
    }
   ],
   "source": [
    "plt.boxplot(df1[\"application\"])"
   ]
  },
  {
   "cell_type": "code",
   "execution_count": 6,
   "id": "9c7dbbd9",
   "metadata": {},
   "outputs": [],
   "source": [
    "df['application'] = df['application'].fillna(df['application'].median())"
   ]
  },
  {
   "cell_type": "code",
   "execution_count": 8,
   "id": "59df210b",
   "metadata": {},
   "outputs": [],
   "source": [
    "df=df.dropna(how = 'all')"
   ]
  },
  {
   "cell_type": "code",
   "execution_count": 20,
   "id": "e95cbfea",
   "metadata": {},
   "outputs": [],
   "source": [
    "df['material_ref'].fillna(\"unknown\",inplace=True)"
   ]
  },
  {
   "cell_type": "code",
   "execution_count": 10,
   "id": "dcf1fc5a",
   "metadata": {},
   "outputs": [],
   "source": [
    "df['material_ref'].replace(to_replace=\"^0+[0-9]{7}\",regex=True,value=\"unknown\",inplace=True)"
   ]
  },
  {
   "cell_type": "code",
   "execution_count": 11,
   "id": "06b0be21",
   "metadata": {},
   "outputs": [
    {
     "data": {
      "text/plain": [
       "0    Won\n",
       "Name: status, dtype: object"
      ]
     },
     "execution_count": 11,
     "metadata": {},
     "output_type": "execute_result"
    }
   ],
   "source": [
    "df[\"status\"].mode()"
   ]
  },
  {
   "cell_type": "code",
   "execution_count": 12,
   "id": "67c4dffb",
   "metadata": {},
   "outputs": [],
   "source": [
    "df[\"status\"]=df[\"status\"].fillna(\"Won\")"
   ]
  },
  {
   "cell_type": "code",
   "execution_count": 13,
   "id": "bad50a4d",
   "metadata": {},
   "outputs": [],
   "source": [
    "df[\"id\"].fillna( method ='bfill', inplace = True)"
   ]
  },
  {
   "cell_type": "code",
   "execution_count": 38,
   "id": "77cd65d8",
   "metadata": {},
   "outputs": [],
   "source": [
    "df[\"quantity tons\"].fillna( method ='bfill', inplace = True)"
   ]
  },
  {
   "cell_type": "code",
   "execution_count": 14,
   "id": "fc41f65c",
   "metadata": {},
   "outputs": [
    {
     "data": {
      "text/plain": [
       "{'whiskers': [<matplotlib.lines.Line2D at 0x24620001a90>,\n",
       "  <matplotlib.lines.Line2D at 0x24620002710>],\n",
       " 'caps': [<matplotlib.lines.Line2D at 0x24620003250>,\n",
       "  <matplotlib.lines.Line2D at 0x24620003d10>],\n",
       " 'boxes': [<matplotlib.lines.Line2D at 0x24620000fd0>],\n",
       " 'medians': [<matplotlib.lines.Line2D at 0x246200088d0>],\n",
       " 'fliers': [<matplotlib.lines.Line2D at 0x246200093d0>],\n",
       " 'means': []}"
      ]
     },
     "execution_count": 14,
     "metadata": {},
     "output_type": "execute_result"
    },
    {
     "data": {
      "image/png": "[encoded data removed]",
      "text/plain": [
       "<Figure size 640x480 with 1 Axes>"
      ]
     },
     "metadata": {},
     "output_type": "display_data"
    }
   ],
   "source": [
    "df2=df.dropna()\n",
    "plt.boxplot(df2[\"selling_price\"])"
   ]
  },
  {
   "cell_type": "code",
   "execution_count": 15,
   "id": "3258493b",
   "metadata": {},
   "outputs": [],
   "source": [
    "df['selling_price'] = df['selling_price'].fillna(df['selling_price'].median())"
   ]
  },
  {
   "cell_type": "code",
   "execution_count": 16,
   "id": "0144a397",
   "metadata": {},
   "outputs": [],
   "source": [
    "df[\"customer\"].fillna( method ='bfill', inplace = True)\n",
    "df[\"item_date\"].fillna( method ='bfill', inplace = True)\n",
    "df[\"thickness\"].fillna( method ='bfill', inplace = True)\n",
    "df[\"delivery date\"].fillna( method ='bfill', inplace = True)"
   ]
  },
  {
   "cell_type": "code",
   "execution_count": 21,
   "id": "6ea1d6da",
   "metadata": {},
   "outputs": [
    {
     "data": {
      "text/plain": [
       "id               0\n",
       "item_date        0\n",
       "quantity tons    0\n",
       "customer         0\n",
       "country          0\n",
       "status           0\n",
       "item type        0\n",
       "application      0\n",
       "thickness        0\n",
       "width            0\n",
       "material_ref     0\n",
       "product_ref      0\n",
       "delivery date    0\n",
       "selling_price    0\n",
       "dtype: int64"
      ]
     },
     "execution_count": 21,
     "metadata": {},
     "output_type": "execute_result"
    }
   ],
   "source": [
    "df.isna().sum()"
   ]
  },
  {
   "cell_type": "code",
   "execution_count": 22,
   "id": "af5a3de5",
   "metadata": {},
   "outputs": [],
   "source": [
    "#converting all the datatypes into numeric datatype\n",
    "df['quantity tons'] = pd.to_numeric(df['quantity tons'], errors='coerce')\n",
    "df['customer'] = pd.to_numeric(df['customer'], errors='coerce')\n",
    "df['country'] = pd.to_numeric(df['country'], errors='coerce')\n",
    "df['application'] = pd.to_numeric(df['application'], errors='coerce')\n",
    "df['thickness'] = pd.to_numeric(df['thickness'], errors='coerce')\n",
    "df['width'] = pd.to_numeric(df['width'], errors='coerce')\n",
    "df['product_ref'] = pd.to_numeric(df['product_ref'], errors='coerce')\n",
    "df['selling_price'] = pd.to_numeric(df['selling_price'], errors='coerce')\n",
    "     "
   ]
  },
  {
   "cell_type": "code",
   "execution_count": 92,
   "id": "061b70fb",
   "metadata": {},
   "outputs": [
    {
     "name": "stdout",
     "output_type": "stream",
     "text": [
      "\n",
      " quantity tons  lower limit= 1.36766919008  upper limit= 702.77338904\n",
      "\n",
      " thickness  lower limit= 0.4  upper limit= 12.0\n",
      "\n",
      " width  lower limit= 811.0  upper limit= 2000.0\n",
      "\n",
      " selling_price  lower limit= 432.0  upper limit= 1295.0\n"
     ]
    }
   ],
   "source": [
    "\n",
    "correction_columns=['quantity tons','thickness','width','selling_price']\n",
    "for i in correction_columns:\n",
    "    Q1=df[i].quantile(0.02)\n",
    "    Q3=df[i].quantile(0.98)\n",
    "    print('\\n',i,' lower limit=',Q1,' upper limit=',Q3)\n"
   ]
  },
  {
   "cell_type": "code",
   "execution_count": 95,
   "id": "3cbf6d1c",
   "metadata": {},
   "outputs": [],
   "source": [
    "\n",
    "from scipy.stats.mstats import winsorize\n",
    "correction_columns=['quantity tons','thickness','width','selling_price']\n",
    "for i in correction_columns:\n",
    "    df[i]=winsorize(df[i],(0.02,0.02))"
   ]
  },
  {
   "cell_type": "code",
   "execution_count": 96,
   "id": "9d4b0054",
   "metadata": {},
   "outputs": [],
   "source": [
    "#Numeric data into categorical data\n",
    "df[\"item type\"].unique()\n",
    "replace1={\"item type\":{'W':0, 'WI':1, 'S':2, 'Others':3, 'PL':4, 'IPL':5, 'SLAWR':6}}\n",
    "df=df.replace(replace1)"
   ]
  },
  {
   "cell_type": "code",
   "execution_count": 97,
   "id": "320dfb71",
   "metadata": {},
   "outputs": [],
   "source": [
    "x=df[['quantity tons','customer','item type','country','application','thickness','width','product_ref','delivery date']].values\n",
    "y=df[['selling_price']].values"
   ]
  },
  {
   "cell_type": "code",
   "execution_count": 98,
   "id": "591b01d4",
   "metadata": {},
   "outputs": [],
   "source": [
    "from sklearn.preprocessing import StandardScaler\n",
    "import pickle\n",
    "# fit scaler on training data\n",
    "scaler = StandardScaler().fit(x)\n",
    "\n",
    "#saving pickle file for scaling\n",
    "pickle.dump(scaler, open('scaling_regression.pkl', 'wb'))\n",
    "\n",
    "# transform training data\n",
    "x = scaler.transform(x)\n",
    "\n",
    "X_train, X_test, Y_train, Y_test = train_test_split(x,y.reshape(-1),test_size=0.3)"
   ]
  },
  {
   "cell_type": "code",
   "execution_count": 103,
   "id": "38a786f2",
   "metadata": {
    "scrolled": true
   },
   "outputs": [
    {
     "name": "stdout",
     "output_type": "stream",
     "text": [
      "Feature:,Score:  ('quantity tons', 0.06957083028917165)\n",
      "Feature:,Score:  ('customer', 0.071079508693963)\n",
      "Feature:,Score:  ('item type', 0.006664754727260268)\n",
      "Feature:,Score:  ('country', 0.04524766330822701)\n",
      "Feature:,Score:  ('application', 0.017479065017818193)\n",
      "Feature:,Score:  ('thickness', 0.0496960548731755)\n",
      "Feature:,Score:  ('width', 0.02307033762277256)\n",
      "Feature:,Score:  ('product_ref', 0.3399263325416511)\n",
      "Feature:,Score:  ('delivery date', 0.3772654529259608)\n",
      "Mean squared error:  6594.836450811617\n",
      "Mean absolute error:  39.18340391047249\n",
      "R2 Score:  0.8323018994024936\n"
     ]
    }
   ],
   "source": [
    "#DecisionTreeRegressor\n",
    "from sklearn.tree import DecisionTreeRegressor\n",
    "model = DecisionTreeRegressor(random_state=53)\n",
    "model.fit(X_train, Y_train)\n",
    "Y_pred=model.predict(X_test)\n",
    "importances=model.feature_importances_\n",
    "\n",
    "for i,v in zip(['quantity tons','customer','item type','country','application','thickness','width','product_ref','delivery date'], importances):\n",
    "    print('Feature:'',Score: ',(i,v))\n",
    "from sklearn.metrics import mean_squared_error, mean_absolute_error, r2_score\n",
    "\n",
    "print('Mean squared error: ', mean_squared_error(Y_test, Y_pred))\n",
    "print('Mean absolute error: ', mean_absolute_error(Y_test, Y_pred))\n",
    "print('R2 Score: ', r2_score(Y_test, Y_pred))\n"
   ]
  },
  {
   "cell_type": "code",
   "execution_count": 107,
   "id": "c7eb9b6c",
   "metadata": {},
   "outputs": [
    {
     "data": {
      "text/html": [
       "<div>\n",
       "<style scoped>\n",
       "    .dataframe tbody tr th:only-of-type {\n",
       "        vertical-align: middle;\n",
       "    }\n",
       "\n",
       "    .dataframe tbody tr th {\n",
       "        vertical-align: top;\n",
       "    }\n",
       "\n",
       "    .dataframe thead th {\n",
       "        text-align: right;\n",
       "    }\n",
       "</style>\n",
       "<table border=\"1\" class=\"dataframe\">\n",
       "  <thead>\n",
       "    <tr style=\"text-align: right;\">\n",
       "      <th></th>\n",
       "      <th>id</th>\n",
       "      <th>item_date</th>\n",
       "      <th>quantity tons</th>\n",
       "      <th>customer</th>\n",
       "      <th>country</th>\n",
       "      <th>status</th>\n",
       "      <th>item type</th>\n",
       "      <th>application</th>\n",
       "      <th>thickness</th>\n",
       "      <th>width</th>\n",
       "      <th>material_ref</th>\n",
       "      <th>product_ref</th>\n",
       "      <th>delivery date</th>\n",
       "      <th>selling_price</th>\n",
       "    </tr>\n",
       "  </thead>\n",
       "  <tbody>\n",
       "    <tr>\n",
       "      <th>0</th>\n",
       "      <td>EC06F063-9DF0-440C-8764-0B0C05A4F6AE</td>\n",
       "      <td>20210401.0</td>\n",
       "      <td>54.151139</td>\n",
       "      <td>51</td>\n",
       "      <td>3</td>\n",
       "      <td>7</td>\n",
       "      <td>0</td>\n",
       "      <td>4</td>\n",
       "      <td>2.0</td>\n",
       "      <td>1500.0</td>\n",
       "      <td>5267</td>\n",
       "      <td>24</td>\n",
       "      <td>20210701.0</td>\n",
       "      <td>854.00</td>\n",
       "    </tr>\n",
       "    <tr>\n",
       "      <th>1</th>\n",
       "      <td>4E5F4B3D-DDDF-499D-AFDE-A3227EC49425</td>\n",
       "      <td>20210401.0</td>\n",
       "      <td>702.773719</td>\n",
       "      <td>288</td>\n",
       "      <td>0</td>\n",
       "      <td>7</td>\n",
       "      <td>0</td>\n",
       "      <td>17</td>\n",
       "      <td>0.8</td>\n",
       "      <td>1210.0</td>\n",
       "      <td>11375</td>\n",
       "      <td>22</td>\n",
       "      <td>20210401.0</td>\n",
       "      <td>1047.00</td>\n",
       "    </tr>\n",
       "    <tr>\n",
       "      <th>2</th>\n",
       "      <td>E140FF1B-2407-4C02-A0DD-780A093B1158</td>\n",
       "      <td>20210401.0</td>\n",
       "      <td>386.127949</td>\n",
       "      <td>39</td>\n",
       "      <td>4</td>\n",
       "      <td>7</td>\n",
       "      <td>1</td>\n",
       "      <td>12</td>\n",
       "      <td>0.4</td>\n",
       "      <td>952.0</td>\n",
       "      <td>9571</td>\n",
       "      <td>5</td>\n",
       "      <td>20210101.0</td>\n",
       "      <td>644.33</td>\n",
       "    </tr>\n",
       "    <tr>\n",
       "      <th>3</th>\n",
       "      <td>F8D507A0-9C62-4EFE-831E-33E1DA53BB50</td>\n",
       "      <td>20210401.0</td>\n",
       "      <td>202.411065</td>\n",
       "      <td>955</td>\n",
       "      <td>5</td>\n",
       "      <td>7</td>\n",
       "      <td>2</td>\n",
       "      <td>21</td>\n",
       "      <td>2.3</td>\n",
       "      <td>1317.0</td>\n",
       "      <td>5541</td>\n",
       "      <td>22</td>\n",
       "      <td>20210101.0</td>\n",
       "      <td>768.00</td>\n",
       "    </tr>\n",
       "    <tr>\n",
       "      <th>4</th>\n",
       "      <td>4E1C4E78-152B-430A-8094-ADD889C9D0AD</td>\n",
       "      <td>20210401.0</td>\n",
       "      <td>702.773719</td>\n",
       "      <td>397</td>\n",
       "      <td>3</td>\n",
       "      <td>7</td>\n",
       "      <td>0</td>\n",
       "      <td>4</td>\n",
       "      <td>4.0</td>\n",
       "      <td>2000.0</td>\n",
       "      <td>1798</td>\n",
       "      <td>8</td>\n",
       "      <td>20210301.0</td>\n",
       "      <td>577.00</td>\n",
       "    </tr>\n",
       "  </tbody>\n",
       "</table>\n",
       "</div>"
      ],
      "text/plain": [
       "                                     id   item_date  quantity tons  customer  \\\n",
       "0  EC06F063-9DF0-440C-8764-0B0C05A4F6AE  20210401.0      54.151139        51   \n",
       "1  4E5F4B3D-DDDF-499D-AFDE-A3227EC49425  20210401.0     702.773719       288   \n",
       "2  E140FF1B-2407-4C02-A0DD-780A093B1158  20210401.0     386.127949        39   \n",
       "3  F8D507A0-9C62-4EFE-831E-33E1DA53BB50  20210401.0     202.411065       955   \n",
       "4  4E1C4E78-152B-430A-8094-ADD889C9D0AD  20210401.0     702.773719       397   \n",
       "\n",
       "   country  status  item type  application  thickness   width  material_ref  \\\n",
       "0        3       7          0            4        2.0  1500.0          5267   \n",
       "1        0       7          0           17        0.8  1210.0         11375   \n",
       "2        4       7          1           12        0.4   952.0          9571   \n",
       "3        5       7          2           21        2.3  1317.0          5541   \n",
       "4        3       7          0            4        4.0  2000.0          1798   \n",
       "\n",
       "   product_ref  delivery date  selling_price  \n",
       "0           24     20210701.0         854.00  \n",
       "1           22     20210401.0        1047.00  \n",
       "2            5     20210101.0         644.33  \n",
       "3           22     20210101.0         768.00  \n",
       "4            8     20210301.0         577.00  "
      ]
     },
     "execution_count": 107,
     "metadata": {},
     "output_type": "execute_result"
    }
   ],
   "source": [
    "#for classification model\n",
    "status1=df.loc[df[\"status\"].isin([7,1])]\n",
    "status1.head()"
   ]
  },
  {
   "cell_type": "code",
   "execution_count": 109,
   "id": "fc4d4b6d",
   "metadata": {},
   "outputs": [
    {
     "name": "stderr",
     "output_type": "stream",
     "text": [
      "C:\\Users\\aditi\\AppData\\Local\\Temp\\ipykernel_8324\\2172499870.py:1: SettingWithCopyWarning: \n",
      "A value is trying to be set on a copy of a slice from a DataFrame.\n",
      "Try using .loc[row_indexer,col_indexer] = value instead\n",
      "\n",
      "See the caveats in the documentation: https://pandas.pydata.org/pandas-docs/stable/user_guide/indexing.html#returning-a-view-versus-a-copy\n",
      "  status1['status'] = le.fit_transform(status1['status'])\n"
     ]
    }
   ],
   "source": [
    "status1['status'] = le.fit_transform(status1['status'])"
   ]
  },
  {
   "cell_type": "code",
   "execution_count": 117,
   "id": "c48e1e26",
   "metadata": {},
   "outputs": [
    {
     "data": {
      "text/plain": [
       "<Axes: xlabel='status'>"
      ]
     },
     "execution_count": 117,
     "metadata": {},
     "output_type": "execute_result"
    },
    {
     "data": {
      "image/png": "[encoded data removed]",
      "text/plain": [
       "<Figure size 640x480 with 1 Axes>"
      ]
     },
     "metadata": {},
     "output_type": "display_data"
    }
   ],
   "source": [
    "status1['status'].value_counts().plot(kind='bar')\n",
    "     "
   ]
  },
  {
   "cell_type": "code",
   "execution_count": 111,
   "id": "eaf46cca",
   "metadata": {},
   "outputs": [],
   "source": [
    "x=status1[['quantity tons','item type','country','application','thickness','width', 'product_ref','selling_price','delivery date']].values\n",
    "y=status1[['status']].values\n",
    "     "
   ]
  },
  {
   "cell_type": "code",
   "execution_count": 113,
   "id": "213a4208",
   "metadata": {},
   "outputs": [],
   "source": [
    "from sklearn.model_selection import train_test_split\n",
    "from imblearn.over_sampling import SMOTE\n",
    "smote = SMOTE(random_state=888)\n",
    "x, y = smote.fit_resample(x, y)\n"
   ]
  },
  {
   "cell_type": "code",
   "execution_count": 115,
   "id": "0c468fad",
   "metadata": {},
   "outputs": [],
   "source": [
    "# data normalization with sklearn\n",
    "# standard scaler -> StandardScaler() - -1 to 1 or MinMaxScaler() - 0 to 1\n",
    "from sklearn.preprocessing import StandardScaler\n",
    "\n",
    "# fit scaler on training data\n",
    "scaler = StandardScaler().fit(x)\n",
    "\n",
    "#saving pickle file for scaling\n",
    "pickle.dump(scaler, open('scaling_Classification.pkl', 'wb'))\n",
    "\n",
    "# transform training data\n",
    "x = scaler.transform(x)\n",
    "\n",
    "#spliting train and test\n",
    "X_train, X_test, Y_train, Y_test = train_test_split(x,y.reshape(-1),test_size=0.3)"
   ]
  },
  {
   "cell_type": "code",
   "execution_count": 121,
   "id": "f5e0fa3b",
   "metadata": {},
   "outputs": [
    {
     "data": {
      "text/plain": [
       "0.94729054131709"
      ]
     },
     "execution_count": 121,
     "metadata": {},
     "output_type": "execute_result"
    }
   ],
   "source": [
    "#random forest classifier\n",
    "from sklearn.ensemble import RandomForestClassifier\n",
    "from sklearn.metrics  import accuracy_score,confusion_matrix, f1_score,roc_auc_score\n",
    "rmodel = RandomForestClassifier(n_estimators=10)\n",
    "rmodel.fit(X_train, Y_train)\n",
    "\n",
    "# Test the RandomForestClassifier model\n",
    "Y_pred = model.predict(X_test)\n",
    "\n",
    "# Evaluate the performance of the model\n",
    "accu=accuracy_score(Y_test, Y_pred)\n",
    "accu"
   ]
  },
  {
   "cell_type": "code",
   "execution_count": 122,
   "id": "89d6b3ae",
   "metadata": {},
   "outputs": [],
   "source": [
    "import pickle\n",
    "filename = 'regression_model.sav'\n",
    "pickle.dump(model, open(filename, 'wb'))\n",
    " "
   ]
  },
  {
   "cell_type": "code",
   "execution_count": 123,
   "id": "b4edb8f6",
   "metadata": {},
   "outputs": [],
   "source": [
    "\n",
    "filename = 'classification_model.sav'\n",
    "pickle.dump(rmodel, open(filename, 'wb'))"
   ]
  },
  {
   "cell_type": "code",
   "execution_count": 126,
   "id": "7686c78f",
   "metadata": {},
   "outputs": [
    {
     "data": {
      "text/html": [
       "<div>\n",
       "<style scoped>\n",
       "    .dataframe tbody tr th:only-of-type {\n",
       "        vertical-align: middle;\n",
       "    }\n",
       "\n",
       "    .dataframe tbody tr th {\n",
       "        vertical-align: top;\n",
       "    }\n",
       "\n",
       "    .dataframe thead th {\n",
       "        text-align: right;\n",
       "    }\n",
       "</style>\n",
       "<table border=\"1\" class=\"dataframe\">\n",
       "  <thead>\n",
       "    <tr style=\"text-align: right;\">\n",
       "      <th></th>\n",
       "      <th>id</th>\n",
       "      <th>item_date</th>\n",
       "      <th>quantity tons</th>\n",
       "      <th>customer</th>\n",
       "      <th>country</th>\n",
       "      <th>status</th>\n",
       "      <th>item type</th>\n",
       "      <th>application</th>\n",
       "      <th>thickness</th>\n",
       "      <th>width</th>\n",
       "      <th>material_ref</th>\n",
       "      <th>product_ref</th>\n",
       "      <th>delivery date</th>\n",
       "      <th>selling_price</th>\n",
       "    </tr>\n",
       "  </thead>\n",
       "  <tbody>\n",
       "    <tr>\n",
       "      <th>0</th>\n",
       "      <td>EC06F063-9DF0-440C-8764-0B0C05A4F6AE</td>\n",
       "      <td>20210401.0</td>\n",
       "      <td>54.151139</td>\n",
       "      <td>51</td>\n",
       "      <td>3</td>\n",
       "      <td>1</td>\n",
       "      <td>0</td>\n",
       "      <td>4</td>\n",
       "      <td>2.00</td>\n",
       "      <td>1500.0</td>\n",
       "      <td>5267</td>\n",
       "      <td>24</td>\n",
       "      <td>20210701.0</td>\n",
       "      <td>854.00</td>\n",
       "    </tr>\n",
       "    <tr>\n",
       "      <th>1</th>\n",
       "      <td>4E5F4B3D-DDDF-499D-AFDE-A3227EC49425</td>\n",
       "      <td>20210401.0</td>\n",
       "      <td>702.773719</td>\n",
       "      <td>288</td>\n",
       "      <td>0</td>\n",
       "      <td>1</td>\n",
       "      <td>0</td>\n",
       "      <td>17</td>\n",
       "      <td>0.80</td>\n",
       "      <td>1210.0</td>\n",
       "      <td>11375</td>\n",
       "      <td>22</td>\n",
       "      <td>20210401.0</td>\n",
       "      <td>1047.00</td>\n",
       "    </tr>\n",
       "    <tr>\n",
       "      <th>2</th>\n",
       "      <td>E140FF1B-2407-4C02-A0DD-780A093B1158</td>\n",
       "      <td>20210401.0</td>\n",
       "      <td>386.127949</td>\n",
       "      <td>39</td>\n",
       "      <td>4</td>\n",
       "      <td>1</td>\n",
       "      <td>1</td>\n",
       "      <td>12</td>\n",
       "      <td>0.40</td>\n",
       "      <td>952.0</td>\n",
       "      <td>9571</td>\n",
       "      <td>5</td>\n",
       "      <td>20210101.0</td>\n",
       "      <td>644.33</td>\n",
       "    </tr>\n",
       "    <tr>\n",
       "      <th>3</th>\n",
       "      <td>F8D507A0-9C62-4EFE-831E-33E1DA53BB50</td>\n",
       "      <td>20210401.0</td>\n",
       "      <td>202.411065</td>\n",
       "      <td>955</td>\n",
       "      <td>5</td>\n",
       "      <td>1</td>\n",
       "      <td>2</td>\n",
       "      <td>21</td>\n",
       "      <td>2.30</td>\n",
       "      <td>1317.0</td>\n",
       "      <td>5541</td>\n",
       "      <td>22</td>\n",
       "      <td>20210101.0</td>\n",
       "      <td>768.00</td>\n",
       "    </tr>\n",
       "    <tr>\n",
       "      <th>4</th>\n",
       "      <td>4E1C4E78-152B-430A-8094-ADD889C9D0AD</td>\n",
       "      <td>20210401.0</td>\n",
       "      <td>702.773719</td>\n",
       "      <td>397</td>\n",
       "      <td>3</td>\n",
       "      <td>1</td>\n",
       "      <td>0</td>\n",
       "      <td>4</td>\n",
       "      <td>4.00</td>\n",
       "      <td>2000.0</td>\n",
       "      <td>1798</td>\n",
       "      <td>8</td>\n",
       "      <td>20210301.0</td>\n",
       "      <td>577.00</td>\n",
       "    </tr>\n",
       "    <tr>\n",
       "      <th>...</th>\n",
       "      <td>...</td>\n",
       "      <td>...</td>\n",
       "      <td>...</td>\n",
       "      <td>...</td>\n",
       "      <td>...</td>\n",
       "      <td>...</td>\n",
       "      <td>...</td>\n",
       "      <td>...</td>\n",
       "      <td>...</td>\n",
       "      <td>...</td>\n",
       "      <td>...</td>\n",
       "      <td>...</td>\n",
       "      <td>...</td>\n",
       "      <td>...</td>\n",
       "    </tr>\n",
       "    <tr>\n",
       "      <th>181668</th>\n",
       "      <td>DE633116-D1DF-4846-982E-55EFC3658A76</td>\n",
       "      <td>20200702.0</td>\n",
       "      <td>102.482422</td>\n",
       "      <td>223</td>\n",
       "      <td>0</td>\n",
       "      <td>1</td>\n",
       "      <td>0</td>\n",
       "      <td>17</td>\n",
       "      <td>0.96</td>\n",
       "      <td>1220.0</td>\n",
       "      <td>11375</td>\n",
       "      <td>9</td>\n",
       "      <td>20200701.0</td>\n",
       "      <td>591.00</td>\n",
       "    </tr>\n",
       "    <tr>\n",
       "      <th>181669</th>\n",
       "      <td>A48374B1-E6DB-45F2-889A-1F9C27C099EB</td>\n",
       "      <td>20200702.0</td>\n",
       "      <td>208.086469</td>\n",
       "      <td>223</td>\n",
       "      <td>0</td>\n",
       "      <td>1</td>\n",
       "      <td>0</td>\n",
       "      <td>17</td>\n",
       "      <td>0.95</td>\n",
       "      <td>1500.0</td>\n",
       "      <td>11375</td>\n",
       "      <td>9</td>\n",
       "      <td>20200701.0</td>\n",
       "      <td>589.00</td>\n",
       "    </tr>\n",
       "    <tr>\n",
       "      <th>181670</th>\n",
       "      <td>91643238-5C7B-4237-9A5F-63AE3D35F320</td>\n",
       "      <td>20200702.0</td>\n",
       "      <td>4.235594</td>\n",
       "      <td>223</td>\n",
       "      <td>0</td>\n",
       "      <td>1</td>\n",
       "      <td>0</td>\n",
       "      <td>17</td>\n",
       "      <td>0.71</td>\n",
       "      <td>1250.0</td>\n",
       "      <td>11375</td>\n",
       "      <td>9</td>\n",
       "      <td>20200701.0</td>\n",
       "      <td>619.00</td>\n",
       "    </tr>\n",
       "    <tr>\n",
       "      <th>181671</th>\n",
       "      <td>7AFFD323-01D9-4E15-B80D-7D1B03498FC8</td>\n",
       "      <td>20200702.0</td>\n",
       "      <td>1.367440</td>\n",
       "      <td>223</td>\n",
       "      <td>0</td>\n",
       "      <td>1</td>\n",
       "      <td>0</td>\n",
       "      <td>17</td>\n",
       "      <td>0.85</td>\n",
       "      <td>1250.0</td>\n",
       "      <td>11375</td>\n",
       "      <td>9</td>\n",
       "      <td>20200701.0</td>\n",
       "      <td>601.00</td>\n",
       "    </tr>\n",
       "    <tr>\n",
       "      <th>181672</th>\n",
       "      <td>AD0CA853-AE3C-4B2F-9FBB-8B0B965F84BC</td>\n",
       "      <td>20200702.0</td>\n",
       "      <td>406.686538</td>\n",
       "      <td>223</td>\n",
       "      <td>0</td>\n",
       "      <td>1</td>\n",
       "      <td>0</td>\n",
       "      <td>17</td>\n",
       "      <td>0.71</td>\n",
       "      <td>1240.0</td>\n",
       "      <td>11375</td>\n",
       "      <td>9</td>\n",
       "      <td>20200701.0</td>\n",
       "      <td>607.00</td>\n",
       "    </tr>\n",
       "  </tbody>\n",
       "</table>\n",
       "<p>150450 rows × 14 columns</p>\n",
       "</div>"
      ],
      "text/plain": [
       "                                          id   item_date  quantity tons  \\\n",
       "0       EC06F063-9DF0-440C-8764-0B0C05A4F6AE  20210401.0      54.151139   \n",
       "1       4E5F4B3D-DDDF-499D-AFDE-A3227EC49425  20210401.0     702.773719   \n",
       "2       E140FF1B-2407-4C02-A0DD-780A093B1158  20210401.0     386.127949   \n",
       "3       F8D507A0-9C62-4EFE-831E-33E1DA53BB50  20210401.0     202.411065   \n",
       "4       4E1C4E78-152B-430A-8094-ADD889C9D0AD  20210401.0     702.773719   \n",
       "...                                      ...         ...            ...   \n",
       "181668  DE633116-D1DF-4846-982E-55EFC3658A76  20200702.0     102.482422   \n",
       "181669  A48374B1-E6DB-45F2-889A-1F9C27C099EB  20200702.0     208.086469   \n",
       "181670  91643238-5C7B-4237-9A5F-63AE3D35F320  20200702.0       4.235594   \n",
       "181671  7AFFD323-01D9-4E15-B80D-7D1B03498FC8  20200702.0       1.367440   \n",
       "181672  AD0CA853-AE3C-4B2F-9FBB-8B0B965F84BC  20200702.0     406.686538   \n",
       "\n",
       "        customer  country  status  item type  application  thickness   width  \\\n",
       "0             51        3       1          0            4       2.00  1500.0   \n",
       "1            288        0       1          0           17       0.80  1210.0   \n",
       "2             39        4       1          1           12       0.40   952.0   \n",
       "3            955        5       1          2           21       2.30  1317.0   \n",
       "4            397        3       1          0            4       4.00  2000.0   \n",
       "...          ...      ...     ...        ...          ...        ...     ...   \n",
       "181668       223        0       1          0           17       0.96  1220.0   \n",
       "181669       223        0       1          0           17       0.95  1500.0   \n",
       "181670       223        0       1          0           17       0.71  1250.0   \n",
       "181671       223        0       1          0           17       0.85  1250.0   \n",
       "181672       223        0       1          0           17       0.71  1240.0   \n",
       "\n",
       "        material_ref  product_ref  delivery date  selling_price  \n",
       "0               5267           24     20210701.0         854.00  \n",
       "1              11375           22     20210401.0        1047.00  \n",
       "2               9571            5     20210101.0         644.33  \n",
       "3               5541           22     20210101.0         768.00  \n",
       "4               1798            8     20210301.0         577.00  \n",
       "...              ...          ...            ...            ...  \n",
       "181668         11375            9     20200701.0         591.00  \n",
       "181669         11375            9     20200701.0         589.00  \n",
       "181670         11375            9     20200701.0         619.00  \n",
       "181671         11375            9     20200701.0         601.00  \n",
       "181672         11375            9     20200701.0         607.00  \n",
       "\n",
       "[150450 rows x 14 columns]"
      ]
     },
     "execution_count": 126,
     "metadata": {},
     "output_type": "execute_result"
    }
   ],
   "source": [
    "status1"
   ]
  },
  {
   "cell_type": "code",
   "execution_count": null,
   "id": "f4a24397",
   "metadata": {},
   "outputs": [],
   "source": []
  }
 ],
 "metadata": {
  "kernelspec": {
   "display_name": "Python 3 (ipykernel)",
   "language": "python",
   "name": "python3"
  },
  "language_info": {
   "codemirror_mode": {
    "name": "ipython",
    "version": 3
   },
   "file_extension": ".py",
   "mimetype": "text/x-python",
   "name": "python",
   "nbconvert_exporter": "python",
   "pygments_lexer": "ipython3",
   "version": "3.11.3"
  }
 },
 "nbformat": 4,
 "nbformat_minor": 5
}
